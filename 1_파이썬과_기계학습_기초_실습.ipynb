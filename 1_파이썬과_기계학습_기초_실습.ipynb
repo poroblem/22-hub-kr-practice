{
  "nbformat": 4,
  "nbformat_minor": 0,
  "metadata": {
    "colab": {
      "provenance": [],
      "include_colab_link": true
    },
    "kernelspec": {
      "name": "python3",
      "display_name": "Python 3"
    },
    "language_info": {
      "name": "python"
    }
  },
  "cells": [
    {
      "cell_type": "markdown",
      "metadata": {
        "id": "view-in-github",
        "colab_type": "text"
      },
      "source": [
        "<a href=\"https://colab.research.google.com/github/poroblem/22-hub-kr-practice/blob/main/1_%ED%8C%8C%EC%9D%B4%EC%8D%AC%EA%B3%BC_%EA%B8%B0%EA%B3%84%ED%95%99%EC%8A%B5_%EA%B8%B0%EC%B4%88_%EC%8B%A4%EC%8A%B5.ipynb\" target=\"_parent\"><img src=\"https://colab.research.google.com/assets/colab-badge.svg\" alt=\"Open In Colab\"/></a>"
      ]
    },
    {
      "cell_type": "code",
      "execution_count": null,
      "metadata": {
        "id": "NCnlTCUlgQLb"
      },
      "outputs": [],
      "source": [
        "import numpy as np\n",
        "import pandas as pd"
      ]
    },
    {
      "cell_type": "code",
      "source": [
        "from sklearn.datasets import fetch_california_housing\n",
        "from sklearn.model_selection import train_test_split\n",
        "from sklearn.linear_model import LinearRegression\n",
        "from sklearn.metrics import r2_score"
      ],
      "metadata": {
        "id": "GoR_tS6_g9sQ"
      },
      "execution_count": null,
      "outputs": []
    },
    {
      "cell_type": "code",
      "source": [
        "dataset = fetch_california_housing()\n",
        "\n",
        "print(dataset.DESCR)"
      ],
      "metadata": {
        "id": "YkBBt3WVg_8_"
      },
      "execution_count": null,
      "outputs": []
    },
    {
      "cell_type": "code",
      "source": [
        "print(dataset)"
      ],
      "metadata": {
        "id": "VUaZDpz1yEEs"
      },
      "execution_count": null,
      "outputs": []
    },
    {
      "cell_type": "code",
      "source": [
        "x_data = pd.DataFrame(dataset.data, columns=dataset.feature_names)\n",
        "y_data = pd.DataFrame(dataset.target)\n",
        "\n",
        "print(x_data)\n",
        "print(y_data)"
      ],
      "metadata": {
        "id": "fhSBqGZ9iplE"
      },
      "execution_count": null,
      "outputs": []
    },
    {
      "cell_type": "code",
      "source": [
        "print(x_data.shape)"
      ],
      "metadata": {
        "id": "e2b9w7ddkns2"
      },
      "execution_count": null,
      "outputs": []
    },
    {
      "cell_type": "code",
      "source": [
        "print(x_data.describe())"
      ],
      "metadata": {
        "id": "kg_Pyot3kyAE"
      },
      "execution_count": null,
      "outputs": []
    },
    {
      "cell_type": "code",
      "source": [
        "x_train, x_test, y_train, y_test = train_test_split(x_data, y_data, test_size=0.3)\n",
        "\n",
        "print(x_train)\n",
        "print(y_train)"
      ],
      "metadata": {
        "id": "KmU9_rezjTv8"
      },
      "execution_count": null,
      "outputs": []
    },
    {
      "cell_type": "code",
      "source": [
        "print(x_test)\n",
        "print(y_test)"
      ],
      "metadata": {
        "id": "5akAx1xtveHQ"
      },
      "execution_count": null,
      "outputs": []
    },
    {
      "cell_type": "code",
      "source": [
        "estimator = LinearRegression()"
      ],
      "metadata": {
        "id": "IJ66-fbWj_OX"
      },
      "execution_count": null,
      "outputs": []
    },
    {
      "cell_type": "code",
      "source": [
        "estimator.fit(x_train, y_train)"
      ],
      "metadata": {
        "id": "TZH1Daf6kXps"
      },
      "execution_count": null,
      "outputs": []
    },
    {
      "cell_type": "code",
      "source": [
        "y_predict = estimator.predict(x_train)\n",
        "score = r2_score(y_train, y_predict)\n",
        "print(score) #1.0"
      ],
      "metadata": {
        "id": "A38LYJB_kY4d"
      },
      "execution_count": null,
      "outputs": []
    },
    {
      "cell_type": "code",
      "source": [
        "y_predict = estimator.predict(x_test)\n",
        "score = r2_score(y_test, y_predict)\n",
        "print(score) #1.0"
      ],
      "metadata": {
        "id": "B2-GKCfMkZyL"
      },
      "execution_count": null,
      "outputs": []
    }
  ]
}